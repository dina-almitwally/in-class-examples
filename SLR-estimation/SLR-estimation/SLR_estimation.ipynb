{
 "cells": [
  {
   "cell_type": "markdown",
   "metadata": {},
   "source": [
    "## Introduction\n",
    "\n",
    "This in-class example demonstrates how you approach a new data set and conduct simple data analysis.\n",
    "\n",
    "What you need to know:  \n",
    "- Statsmodels and pandas modules in Python\n",
    "- Theoretical concepts on statistical moments\n",
    "- Theoretical concepts on simple linear regression model\n",
    "\n",
    "The list of [references](#References) for detailed concepts and techniques used in this exerise.\n",
    "***\n",
    "\n",
    "## Content\n",
    "- [Load the required modules](#Load-the-required-modules)\n",
    "- [Data check and summary statistics](#Data-check-and-summary-statistics)\n",
    "- [Simple Linear Regression Model](#Simple-Linear-Regression-Model) \n",
    "- [References](#References)"
   ]
  },
  {
   "cell_type": "markdown",
   "metadata": {},
   "source": [
    "***\n",
    "## Data Description\n",
    "\n",
    "The house price data with file name ```hprice1.csv``` contains the following variables\n",
    "\n",
    "| Name | Description |\n",
    "| :--- | :--- |\n",
    "| price    | house price, \\$1000s |\n",
    "| assess   | assessed value, \\$1000s |\n",
    "| bdrms    | number of bdrms |\n",
    "| lotsize  | size of lot in square feet |\n",
    "| sqrft    | size of house in square feet |\n",
    "| colonial | =1 if home is colonial style |\n",
    "| lprice   | log(price) |\n",
    "| lassess  | log(assess |\n",
    "| llotsize | log(lotsize) |\n",
    "| lsqrft   | log(sqrft) |\n"
   ]
  },
  {
   "cell_type": "markdown",
   "metadata": {},
   "source": [
    "***\n",
    "## Load the required modules"
   ]
  },
  {
   "cell_type": "code",
   "execution_count": 1,
   "metadata": {},
   "outputs": [],
   "source": [
    "import math\n",
    "import numpy as np\n",
    "import pandas as pd\n",
    "import statsmodels\n",
    "import statsmodels.api as sm\n",
    "import statsmodels.formula.api as smf"
   ]
  },
  {
   "cell_type": "markdown",
   "metadata": {},
   "source": [
    "***\n",
    "## Data-check-and-summary-statistics"
   ]
  },
  {
   "cell_type": "markdown",
   "metadata": {},
   "source": [
    "#### Load the data set\n",
    "The data set is contained in a comma-separated value (csv) file named \"*hprice1*\" with column header. "
   ]
  },
  {
   "cell_type": "code",
   "execution_count": 2,
   "metadata": {},
   "outputs": [],
   "source": [
    "hp_data = pd.read_csv('hprice1.csv')"
   ]
  },
  {
   "cell_type": "markdown",
   "metadata": {},
   "source": [
    "#### Check if the data is properly imported"
   ]
  },
  {
   "cell_type": "code",
   "execution_count": 3,
   "metadata": {},
   "outputs": [
    {
     "data": {
      "text/html": [
       "<div>\n",
       "<style scoped>\n",
       "    .dataframe tbody tr th:only-of-type {\n",
       "        vertical-align: middle;\n",
       "    }\n",
       "\n",
       "    .dataframe tbody tr th {\n",
       "        vertical-align: top;\n",
       "    }\n",
       "\n",
       "    .dataframe thead th {\n",
       "        text-align: right;\n",
       "    }\n",
       "</style>\n",
       "<table border=\"1\" class=\"dataframe\">\n",
       "  <thead>\n",
       "    <tr style=\"text-align: right;\">\n",
       "      <th></th>\n",
       "      <th>price</th>\n",
       "      <th>assess</th>\n",
       "      <th>bdrms</th>\n",
       "      <th>lotsize</th>\n",
       "      <th>sqrft</th>\n",
       "      <th>colonial</th>\n",
       "      <th>lprice</th>\n",
       "      <th>lassess</th>\n",
       "      <th>llotsize</th>\n",
       "      <th>lsqrft</th>\n",
       "    </tr>\n",
       "  </thead>\n",
       "  <tbody>\n",
       "    <tr>\n",
       "      <th>0</th>\n",
       "      <td>300.000</td>\n",
       "      <td>349.1</td>\n",
       "      <td>4</td>\n",
       "      <td>6126</td>\n",
       "      <td>2438</td>\n",
       "      <td>1</td>\n",
       "      <td>5.703783</td>\n",
       "      <td>5.855359</td>\n",
       "      <td>8.720297</td>\n",
       "      <td>7.798934</td>\n",
       "    </tr>\n",
       "    <tr>\n",
       "      <th>1</th>\n",
       "      <td>370.000</td>\n",
       "      <td>351.5</td>\n",
       "      <td>3</td>\n",
       "      <td>9903</td>\n",
       "      <td>2076</td>\n",
       "      <td>1</td>\n",
       "      <td>5.913503</td>\n",
       "      <td>5.862210</td>\n",
       "      <td>9.200593</td>\n",
       "      <td>7.638198</td>\n",
       "    </tr>\n",
       "    <tr>\n",
       "      <th>2</th>\n",
       "      <td>191.000</td>\n",
       "      <td>217.7</td>\n",
       "      <td>3</td>\n",
       "      <td>5200</td>\n",
       "      <td>1374</td>\n",
       "      <td>0</td>\n",
       "      <td>5.252274</td>\n",
       "      <td>5.383118</td>\n",
       "      <td>8.556414</td>\n",
       "      <td>7.225482</td>\n",
       "    </tr>\n",
       "    <tr>\n",
       "      <th>3</th>\n",
       "      <td>195.000</td>\n",
       "      <td>231.8</td>\n",
       "      <td>3</td>\n",
       "      <td>4600</td>\n",
       "      <td>1448</td>\n",
       "      <td>1</td>\n",
       "      <td>5.273000</td>\n",
       "      <td>5.445875</td>\n",
       "      <td>8.433811</td>\n",
       "      <td>7.277938</td>\n",
       "    </tr>\n",
       "    <tr>\n",
       "      <th>4</th>\n",
       "      <td>373.000</td>\n",
       "      <td>319.1</td>\n",
       "      <td>4</td>\n",
       "      <td>6095</td>\n",
       "      <td>2514</td>\n",
       "      <td>1</td>\n",
       "      <td>5.921578</td>\n",
       "      <td>5.765504</td>\n",
       "      <td>8.715224</td>\n",
       "      <td>7.829630</td>\n",
       "    </tr>\n",
       "    <tr>\n",
       "      <th>5</th>\n",
       "      <td>466.275</td>\n",
       "      <td>414.5</td>\n",
       "      <td>5</td>\n",
       "      <td>8566</td>\n",
       "      <td>2754</td>\n",
       "      <td>1</td>\n",
       "      <td>6.144775</td>\n",
       "      <td>6.027073</td>\n",
       "      <td>9.055556</td>\n",
       "      <td>7.920810</td>\n",
       "    </tr>\n",
       "    <tr>\n",
       "      <th>6</th>\n",
       "      <td>332.500</td>\n",
       "      <td>367.8</td>\n",
       "      <td>3</td>\n",
       "      <td>9000</td>\n",
       "      <td>2067</td>\n",
       "      <td>1</td>\n",
       "      <td>5.806640</td>\n",
       "      <td>5.907539</td>\n",
       "      <td>9.104980</td>\n",
       "      <td>7.633853</td>\n",
       "    </tr>\n",
       "    <tr>\n",
       "      <th>7</th>\n",
       "      <td>315.000</td>\n",
       "      <td>300.2</td>\n",
       "      <td>3</td>\n",
       "      <td>6210</td>\n",
       "      <td>1731</td>\n",
       "      <td>1</td>\n",
       "      <td>5.752573</td>\n",
       "      <td>5.704449</td>\n",
       "      <td>8.733916</td>\n",
       "      <td>7.456455</td>\n",
       "    </tr>\n",
       "    <tr>\n",
       "      <th>8</th>\n",
       "      <td>206.000</td>\n",
       "      <td>236.1</td>\n",
       "      <td>3</td>\n",
       "      <td>6000</td>\n",
       "      <td>1767</td>\n",
       "      <td>0</td>\n",
       "      <td>5.327876</td>\n",
       "      <td>5.464255</td>\n",
       "      <td>8.699514</td>\n",
       "      <td>7.477038</td>\n",
       "    </tr>\n",
       "    <tr>\n",
       "      <th>9</th>\n",
       "      <td>240.000</td>\n",
       "      <td>256.3</td>\n",
       "      <td>3</td>\n",
       "      <td>2892</td>\n",
       "      <td>1890</td>\n",
       "      <td>0</td>\n",
       "      <td>5.480639</td>\n",
       "      <td>5.546349</td>\n",
       "      <td>7.969704</td>\n",
       "      <td>7.544332</td>\n",
       "    </tr>\n",
       "  </tbody>\n",
       "</table>\n",
       "</div>"
      ],
      "text/plain": [
       "     price  assess  bdrms  lotsize  sqrft  colonial    lprice   lassess  \\\n",
       "0  300.000   349.1      4     6126   2438         1  5.703783  5.855359   \n",
       "1  370.000   351.5      3     9903   2076         1  5.913503  5.862210   \n",
       "2  191.000   217.7      3     5200   1374         0  5.252274  5.383118   \n",
       "3  195.000   231.8      3     4600   1448         1  5.273000  5.445875   \n",
       "4  373.000   319.1      4     6095   2514         1  5.921578  5.765504   \n",
       "5  466.275   414.5      5     8566   2754         1  6.144775  6.027073   \n",
       "6  332.500   367.8      3     9000   2067         1  5.806640  5.907539   \n",
       "7  315.000   300.2      3     6210   1731         1  5.752573  5.704449   \n",
       "8  206.000   236.1      3     6000   1767         0  5.327876  5.464255   \n",
       "9  240.000   256.3      3     2892   1890         0  5.480639  5.546349   \n",
       "\n",
       "   llotsize    lsqrft  \n",
       "0  8.720297  7.798934  \n",
       "1  9.200593  7.638198  \n",
       "2  8.556414  7.225482  \n",
       "3  8.433811  7.277938  \n",
       "4  8.715224  7.829630  \n",
       "5  9.055556  7.920810  \n",
       "6  9.104980  7.633853  \n",
       "7  8.733916  7.456455  \n",
       "8  8.699514  7.477038  \n",
       "9  7.969704  7.544332  "
      ]
     },
     "execution_count": 3,
     "metadata": {},
     "output_type": "execute_result"
    }
   ],
   "source": [
    "hp_data.head(10)"
   ]
  },
  {
   "cell_type": "markdown",
   "metadata": {},
   "source": [
    "#### Get statistical moments"
   ]
  },
  {
   "cell_type": "code",
   "execution_count": 4,
   "metadata": {},
   "outputs": [
    {
     "data": {
      "text/html": [
       "<div>\n",
       "<style scoped>\n",
       "    .dataframe tbody tr th:only-of-type {\n",
       "        vertical-align: middle;\n",
       "    }\n",
       "\n",
       "    .dataframe tbody tr th {\n",
       "        vertical-align: top;\n",
       "    }\n",
       "\n",
       "    .dataframe thead th {\n",
       "        text-align: right;\n",
       "    }\n",
       "</style>\n",
       "<table border=\"1\" class=\"dataframe\">\n",
       "  <thead>\n",
       "    <tr style=\"text-align: right;\">\n",
       "      <th></th>\n",
       "      <th>price</th>\n",
       "      <th>assess</th>\n",
       "      <th>bdrms</th>\n",
       "      <th>lotsize</th>\n",
       "      <th>sqrft</th>\n",
       "      <th>colonial</th>\n",
       "      <th>lprice</th>\n",
       "      <th>lassess</th>\n",
       "      <th>llotsize</th>\n",
       "      <th>lsqrft</th>\n",
       "    </tr>\n",
       "  </thead>\n",
       "  <tbody>\n",
       "    <tr>\n",
       "      <th>count</th>\n",
       "      <td>88.000000</td>\n",
       "      <td>88.000000</td>\n",
       "      <td>88.000000</td>\n",
       "      <td>88.000000</td>\n",
       "      <td>88.000000</td>\n",
       "      <td>88.000000</td>\n",
       "      <td>88.000000</td>\n",
       "      <td>88.000000</td>\n",
       "      <td>88.000000</td>\n",
       "      <td>88.000000</td>\n",
       "    </tr>\n",
       "    <tr>\n",
       "      <th>mean</th>\n",
       "      <td>293.546034</td>\n",
       "      <td>315.736364</td>\n",
       "      <td>3.568182</td>\n",
       "      <td>9019.863636</td>\n",
       "      <td>2013.693182</td>\n",
       "      <td>0.693182</td>\n",
       "      <td>5.633180</td>\n",
       "      <td>5.717994</td>\n",
       "      <td>8.905105</td>\n",
       "      <td>7.572610</td>\n",
       "    </tr>\n",
       "    <tr>\n",
       "      <th>std</th>\n",
       "      <td>102.713445</td>\n",
       "      <td>95.314437</td>\n",
       "      <td>0.841393</td>\n",
       "      <td>10174.150414</td>\n",
       "      <td>577.191583</td>\n",
       "      <td>0.463816</td>\n",
       "      <td>0.303573</td>\n",
       "      <td>0.262113</td>\n",
       "      <td>0.544060</td>\n",
       "      <td>0.258688</td>\n",
       "    </tr>\n",
       "    <tr>\n",
       "      <th>min</th>\n",
       "      <td>111.000000</td>\n",
       "      <td>198.700000</td>\n",
       "      <td>2.000000</td>\n",
       "      <td>1000.000000</td>\n",
       "      <td>1171.000000</td>\n",
       "      <td>0.000000</td>\n",
       "      <td>4.709530</td>\n",
       "      <td>5.291796</td>\n",
       "      <td>6.907755</td>\n",
       "      <td>7.065613</td>\n",
       "    </tr>\n",
       "    <tr>\n",
       "      <th>25%</th>\n",
       "      <td>230.000000</td>\n",
       "      <td>253.900000</td>\n",
       "      <td>3.000000</td>\n",
       "      <td>5732.750000</td>\n",
       "      <td>1660.500000</td>\n",
       "      <td>0.000000</td>\n",
       "      <td>5.438079</td>\n",
       "      <td>5.536940</td>\n",
       "      <td>8.653908</td>\n",
       "      <td>7.414873</td>\n",
       "    </tr>\n",
       "    <tr>\n",
       "      <th>50%</th>\n",
       "      <td>265.500000</td>\n",
       "      <td>290.200000</td>\n",
       "      <td>3.000000</td>\n",
       "      <td>6430.000000</td>\n",
       "      <td>1845.000000</td>\n",
       "      <td>1.000000</td>\n",
       "      <td>5.581613</td>\n",
       "      <td>5.670566</td>\n",
       "      <td>8.768719</td>\n",
       "      <td>7.520231</td>\n",
       "    </tr>\n",
       "    <tr>\n",
       "      <th>75%</th>\n",
       "      <td>326.250000</td>\n",
       "      <td>352.125000</td>\n",
       "      <td>4.000000</td>\n",
       "      <td>8583.250000</td>\n",
       "      <td>2227.000000</td>\n",
       "      <td>1.000000</td>\n",
       "      <td>5.787642</td>\n",
       "      <td>5.863982</td>\n",
       "      <td>9.057567</td>\n",
       "      <td>7.708266</td>\n",
       "    </tr>\n",
       "    <tr>\n",
       "      <th>max</th>\n",
       "      <td>725.000000</td>\n",
       "      <td>708.600000</td>\n",
       "      <td>7.000000</td>\n",
       "      <td>92681.000000</td>\n",
       "      <td>3880.000000</td>\n",
       "      <td>1.000000</td>\n",
       "      <td>6.586172</td>\n",
       "      <td>6.563291</td>\n",
       "      <td>11.436920</td>\n",
       "      <td>8.263591</td>\n",
       "    </tr>\n",
       "  </tbody>\n",
       "</table>\n",
       "</div>"
      ],
      "text/plain": [
       "            price      assess      bdrms       lotsize        sqrft  \\\n",
       "count   88.000000   88.000000  88.000000     88.000000    88.000000   \n",
       "mean   293.546034  315.736364   3.568182   9019.863636  2013.693182   \n",
       "std    102.713445   95.314437   0.841393  10174.150414   577.191583   \n",
       "min    111.000000  198.700000   2.000000   1000.000000  1171.000000   \n",
       "25%    230.000000  253.900000   3.000000   5732.750000  1660.500000   \n",
       "50%    265.500000  290.200000   3.000000   6430.000000  1845.000000   \n",
       "75%    326.250000  352.125000   4.000000   8583.250000  2227.000000   \n",
       "max    725.000000  708.600000   7.000000  92681.000000  3880.000000   \n",
       "\n",
       "        colonial     lprice    lassess   llotsize     lsqrft  \n",
       "count  88.000000  88.000000  88.000000  88.000000  88.000000  \n",
       "mean    0.693182   5.633180   5.717994   8.905105   7.572610  \n",
       "std     0.463816   0.303573   0.262113   0.544060   0.258688  \n",
       "min     0.000000   4.709530   5.291796   6.907755   7.065613  \n",
       "25%     0.000000   5.438079   5.536940   8.653908   7.414873  \n",
       "50%     1.000000   5.581613   5.670566   8.768719   7.520231  \n",
       "75%     1.000000   5.787642   5.863982   9.057567   7.708266  \n",
       "max     1.000000   6.586172   6.563291  11.436920   8.263591  "
      ]
     },
     "execution_count": 4,
     "metadata": {},
     "output_type": "execute_result"
    }
   ],
   "source": [
    "hp_data.describe()"
   ]
  },
  {
   "cell_type": "markdown",
   "metadata": {},
   "source": [
    "#### Create a scatter plot to visualize the data"
   ]
  },
  {
   "cell_type": "code",
   "execution_count": 5,
   "metadata": {},
   "outputs": [
    {
     "data": {
      "text/plain": [
       "<AxesSubplot:xlabel='sqrft', ylabel='price'>"
      ]
     },
     "execution_count": 5,
     "metadata": {},
     "output_type": "execute_result"
    },
    {
     "data": {
      "image/png": "[encoded data removed]",
      "text/plain": [
       "<Figure size 432x288 with 1 Axes>"
      ]
     },
     "metadata": {
      "needs_background": "light"
     },
     "output_type": "display_data"
    }
   ],
   "source": [
    "hp_data.plot.scatter(\"sqrft\",\"price\")"
   ]
  },
  {
   "cell_type": "markdown",
   "metadata": {},
   "source": [
    "***\n",
    "## Simple Linear Regression Model"
   ]
  },
  {
   "cell_type": "markdown",
   "metadata": {},
   "source": [
    "#### Model Estimation by the Ordinary Least Square (OLS) method\n",
    "\n",
    "Estimate the model $$price = \\beta_0 + \\beta_1 sqrft + u,$$\n",
    "where price is the house price measured in thousands of dollars."
   ]
  },
  {
   "cell_type": "code",
   "execution_count": 6,
   "metadata": {},
   "outputs": [],
   "source": [
    "model = smf.ols(formula = 'price ~ sqrft', data = hp_data).fit()"
   ]
  },
  {
   "cell_type": "markdown",
   "metadata": {},
   "source": [
    "#### Get the estimation results"
   ]
  },
  {
   "cell_type": "code",
   "execution_count": 7,
   "metadata": {},
   "outputs": [
    {
     "data": {
      "text/html": [
       "<table class=\"simpletable\">\n",
       "<caption>OLS Regression Results</caption>\n",
       "<tr>\n",
       "  <th>Dep. Variable:</th>          <td>price</td>      <th>  R-squared:         </th> <td>   0.621</td>\n",
       "</tr>\n",
       "<tr>\n",
       "  <th>Model:</th>                   <td>OLS</td>       <th>  Adj. R-squared:    </th> <td>   0.616</td>\n",
       "</tr>\n",
       "<tr>\n",
       "  <th>Method:</th>             <td>Least Squares</td>  <th>  F-statistic:       </th> <td>   140.8</td>\n",
       "</tr>\n",
       "<tr>\n",
       "  <th>Date:</th>             <td>Wed, 22 Sep 2021</td> <th>  Prob (F-statistic):</th> <td>8.42e-20</td>\n",
       "</tr>\n",
       "<tr>\n",
       "  <th>Time:</th>                 <td>20:21:16</td>     <th>  Log-Likelihood:    </th> <td> -489.31</td>\n",
       "</tr>\n",
       "<tr>\n",
       "  <th>No. Observations:</th>      <td>    88</td>      <th>  AIC:               </th> <td>   982.6</td>\n",
       "</tr>\n",
       "<tr>\n",
       "  <th>Df Residuals:</th>          <td>    86</td>      <th>  BIC:               </th> <td>   987.6</td>\n",
       "</tr>\n",
       "<tr>\n",
       "  <th>Df Model:</th>              <td>     1</td>      <th>                     </th>     <td> </td>   \n",
       "</tr>\n",
       "<tr>\n",
       "  <th>Covariance Type:</th>      <td>nonrobust</td>    <th>                     </th>     <td> </td>   \n",
       "</tr>\n",
       "</table>\n",
       "<table class=\"simpletable\">\n",
       "<tr>\n",
       "      <td></td>         <th>coef</th>     <th>std err</th>      <th>t</th>      <th>P>|t|</th>  <th>[0.025</th>    <th>0.975]</th>  \n",
       "</tr>\n",
       "<tr>\n",
       "  <th>Intercept</th> <td>   11.2041</td> <td>   24.743</td> <td>    0.453</td> <td> 0.652</td> <td>  -37.983</td> <td>   60.391</td>\n",
       "</tr>\n",
       "<tr>\n",
       "  <th>sqrft</th>     <td>    0.1402</td> <td>    0.012</td> <td>   11.866</td> <td> 0.000</td> <td>    0.117</td> <td>    0.164</td>\n",
       "</tr>\n",
       "</table>\n",
       "<table class=\"simpletable\">\n",
       "<tr>\n",
       "  <th>Omnibus:</th>       <td>26.343</td> <th>  Durbin-Watson:     </th> <td>   1.729</td>\n",
       "</tr>\n",
       "<tr>\n",
       "  <th>Prob(Omnibus):</th> <td> 0.000</td> <th>  Jarque-Bera (JB):  </th> <td>  46.311</td>\n",
       "</tr>\n",
       "<tr>\n",
       "  <th>Skew:</th>          <td> 1.185</td> <th>  Prob(JB):          </th> <td>8.79e-11</td>\n",
       "</tr>\n",
       "<tr>\n",
       "  <th>Kurtosis:</th>      <td> 5.649</td> <th>  Cond. No.          </th> <td>7.64e+03</td>\n",
       "</tr>\n",
       "</table><br/><br/>Notes:<br/>[1] Standard Errors assume that the covariance matrix of the errors is correctly specified.<br/>[2] The condition number is large, 7.64e+03. This might indicate that there are<br/>strong multicollinearity or other numerical problems."
      ],
      "text/plain": [
       "<class 'statsmodels.iolib.summary.Summary'>\n",
       "\"\"\"\n",
       "                            OLS Regression Results                            \n",
       "==============================================================================\n",
       "Dep. Variable:                  price   R-squared:                       0.621\n",
       "Model:                            OLS   Adj. R-squared:                  0.616\n",
       "Method:                 Least Squares   F-statistic:                     140.8\n",
       "Date:                Wed, 22 Sep 2021   Prob (F-statistic):           8.42e-20\n",
       "Time:                        20:21:16   Log-Likelihood:                -489.31\n",
       "No. Observations:                  88   AIC:                             982.6\n",
       "Df Residuals:                      86   BIC:                             987.6\n",
       "Df Model:                           1                                         \n",
       "Covariance Type:            nonrobust                                         \n",
       "==============================================================================\n",
       "                 coef    std err          t      P>|t|      [0.025      0.975]\n",
       "------------------------------------------------------------------------------\n",
       "Intercept     11.2041     24.743      0.453      0.652     -37.983      60.391\n",
       "sqrft          0.1402      0.012     11.866      0.000       0.117       0.164\n",
       "==============================================================================\n",
       "Omnibus:                       26.343   Durbin-Watson:                   1.729\n",
       "Prob(Omnibus):                  0.000   Jarque-Bera (JB):               46.311\n",
       "Skew:                           1.185   Prob(JB):                     8.79e-11\n",
       "Kurtosis:                       5.649   Cond. No.                     7.64e+03\n",
       "==============================================================================\n",
       "\n",
       "Notes:\n",
       "[1] Standard Errors assume that the covariance matrix of the errors is correctly specified.\n",
       "[2] The condition number is large, 7.64e+03. This might indicate that there are\n",
       "strong multicollinearity or other numerical problems.\n",
       "\"\"\""
      ]
     },
     "execution_count": 7,
     "metadata": {},
     "output_type": "execute_result"
    }
   ],
   "source": [
    "model.summary()"
   ]
  },
  {
   "cell_type": "markdown",
   "metadata": {},
   "source": [
    "#### How would you interpret the results?"
   ]
  },
  {
   "cell_type": "markdown",
   "metadata": {},
   "source": [
    "1. Write out the results in equation form."
   ]
  },
  {
   "cell_type": "markdown",
   "metadata": {},
   "source": [
    "price = 11.2041 + 0.1402 sqrft"
   ]
  },
  {
   "cell_type": "markdown",
   "metadata": {},
   "source": [
    "2. What is the estimated increase in price for a house with an additional 140 square feet in size?"
   ]
  },
  {
   "cell_type": "code",
   "execution_count": 8,
   "metadata": {},
   "outputs": [
    {
     "data": {
      "text/plain": [
       "19.628"
      ]
     },
     "execution_count": 8,
     "metadata": {},
     "output_type": "execute_result"
    }
   ],
   "source": [
    "0.1402*140"
   ]
  },
  {
   "cell_type": "markdown",
   "metadata": {},
   "source": [
    "3. What percentage of the variation in price is explained by square footage?"
   ]
  },
  {
   "cell_type": "markdown",
   "metadata": {},
   "source": [
    "62.1%"
   ]
  },
  {
   "cell_type": "markdown",
   "metadata": {},
   "source": [
    "4. The first house in the sample has $sqrft = 2,438$. Find the predicted selling price for this house from the OLS regression line."
   ]
  },
  {
   "cell_type": "code",
   "execution_count": 9,
   "metadata": {},
   "outputs": [
    {
     "data": {
      "text/plain": [
       "353.01169999999996"
      ]
     },
     "execution_count": 9,
     "metadata": {},
     "output_type": "execute_result"
    }
   ],
   "source": [
    "11.2041 + 0.1402*2438"
   ]
  },
  {
   "cell_type": "markdown",
   "metadata": {},
   "source": [
    "5. The actual selling price of the first house in the sample was \\\\$300,000 ($price$ = 300). Find the residual for this house. Does it suggest that the buyer underpaid or overpaid for the house?"
   ]
  },
  {
   "cell_type": "code",
   "execution_count": 10,
   "metadata": {},
   "outputs": [
    {
     "data": {
      "text/plain": [
       "-53.01170000000002"
      ]
     },
     "execution_count": 10,
     "metadata": {},
     "output_type": "execute_result"
    }
   ],
   "source": [
    "300 - 353.0117"
   ]
  },
  {
   "cell_type": "markdown",
   "metadata": {},
   "source": [
    "***"
   ]
  },
  {
   "cell_type": "markdown",
   "metadata": {},
   "source": [
    "## References\n",
    "\n",
    "- Jeffrey M. Wooldridge (2019) \"Introductory Econometrics: A Modern Approach, 7e\" Chapter 2.\n",
    "\n",
    "- The pandas development team (2020). \"[pandas-dev/pandas: Pandas](https://pandas.pydata.org/).\" Zenodo.\n",
    "    \n",
    "- Seabold, Skipper, and Josef Perktold (2010). \"[statsmodels: Econometric and statistical modeling with python](https://www.statsmodels.org/stable/examples/notebooks/generated/ols.html).\" Proceedings of the 9th Python in Science Conference."
   ]
  }
 ],
 "metadata": {
  "kernelspec": {
   "display_name": "Python 3",
   "language": "python",
   "name": "python3"
  },
  "language_info": {
   "codemirror_mode": {
    "name": "ipython",
    "version": 3
   },
   "file_extension": ".py",
   "mimetype": "text/x-python",
   "name": "python",
   "nbconvert_exporter": "python",
   "pygments_lexer": "ipython3",
   "version": "3.8.8"
  }
 },
 "nbformat": 4,
 "nbformat_minor": 4
}
